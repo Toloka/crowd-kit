{
 "cells": [
  {
   "cell_type": "markdown",
   "metadata": {
    "id": "Eult4u-UWW-D"
   },
   "source": [
    "# How to Aggregate Textual Responses via Crowdsourcing"
   ]
  },
  {
   "cell_type": "markdown",
   "metadata": {
    "id": "EiGsBj4xlMzY"
   },
   "source": [
    "Welcome to this tutorial!\n",
    "\n",
    "We will look at how to apply aggregation methods to a text response and learn from noisy texts in the crowdsourcing setting."
   ]
  },
  {
   "cell_type": "markdown",
   "metadata": {
    "id": "8ijXY7PgOwiB"
   },
   "source": [
    "## Libraries importing"
   ]
  },
  {
   "cell_type": "markdown",
   "metadata": {
    "id": "MscnHHzgHbZ0"
   },
   "source": [
    "First of all, let's install all the necessary libraries:"
   ]
  },
  {
   "cell_type": "code",
   "execution_count": 1,
   "metadata": {
    "id": "TOPHiaba9SDD"
   },
   "outputs": [],
   "source": [
    "%%capture\n",
    "%pip install pandas\n",
    "%pip install crowd-kit\n",
    "%pip install sentence_transformers\n",
    "%pip install jiwer"
   ]
  },
  {
   "cell_type": "markdown",
   "metadata": {
    "id": "3vSvvVacZW2w"
   },
   "source": [
    "So, we want somehow to get one correct answer from the several textual responses. Let's deal with that problem with Crowd-Kit library and see what we can do with it"
   ]
  },
  {
   "cell_type": "code",
   "execution_count": 2,
   "metadata": {
    "id": "wmfR76Xu9i55"
   },
   "outputs": [],
   "source": [
    "import torch\n",
    "from jiwer import wer\n",
    "from sentence_transformers import SentenceTransformer\n",
    "\n",
    "from crowdkit.aggregation import ROVER, TextHRRASA, TextRASA\n",
    "from crowdkit.datasets import load_dataset"
   ]
  },
  {
   "cell_type": "markdown",
   "metadata": {
    "id": "rdI118GvQ6pX"
   },
   "source": [
    "## Boosting with cuda"
   ]
  },
  {
   "cell_type": "markdown",
   "metadata": {
    "id": "O_U9qoVDQ6RV"
   },
   "source": [
    "We are going to use some machine learning models and for faster calculating it's better to use GPU."
   ]
  },
  {
   "cell_type": "code",
   "execution_count": 3,
   "metadata": {
    "colab": {
     "base_uri": "https://localhost:8080/"
    },
    "id": "qpFHQY90Q3NX",
    "outputId": "14fc8196-b0b0-4267-f479-72e803c69f0b"
   },
   "outputs": [
    {
     "name": "stdout",
     "output_type": "stream",
     "text": [
      "cuda\n"
     ]
    }
   ],
   "source": [
    "device = torch.device(\"cuda\" if torch.cuda.is_available() else \"cpu\")\n",
    "print(device)"
   ]
  },
  {
   "cell_type": "markdown",
   "metadata": {
    "id": "L967yPAIPCPh"
   },
   "source": [
    "## Data preparation"
   ]
  },
  {
   "cell_type": "markdown",
   "metadata": {
    "id": "l3-8aqvIaEv9"
   },
   "source": [
    "The **load_dataset** function returns a pair of elements. The first element is the pandas data frame with the crowdsourced data. The second element is the ground truth dataset, whenever possible. The data frame, or df, has three columns: **worker**, **task**, and **label**. The label is set to 0 if the document is rated as non-relevant by the given annotator in the given task, otherwise, the label will be 1. The ground truth dataset df_gt is a pandas series that contains the correct responses to the tasks put to the index of this series."
   ]
  },
  {
   "cell_type": "code",
   "execution_count": 68,
   "metadata": {
    "id": "dLDTqE0aIyB6"
   },
   "outputs": [],
   "source": [
    "df, gt = load_dataset(\"crowdspeech-test-clean\")\n",
    "\n",
    "gt = gt.sort_index()\n",
    "df[\"text\"] = df[\"text\"].str.lower()"
   ]
  },
  {
   "cell_type": "markdown",
   "metadata": {
    "id": "XAVqDx3QIOzB"
   },
   "source": [
    "Checking our dataset"
   ]
  },
  {
   "cell_type": "code",
   "execution_count": 5,
   "metadata": {
    "colab": {
     "base_uri": "https://localhost:8080/",
     "height": 206
    },
    "id": "2yQYjDeokCBZ",
    "outputId": "5790cdbb-483a-4207-c15e-2e3f32c9d9e2"
   },
   "outputs": [
    {
     "data": {
      "text/html": [
       "\n",
       "  <div id=\"df-01fec82c-55b0-49f6-8bfa-909c41a0c919\">\n",
       "    <div class=\"colab-df-container\">\n",
       "      <div>\n",
       "<style scoped>\n",
       "    .dataframe tbody tr th:only-of-type {\n",
       "        vertical-align: middle;\n",
       "    }\n",
       "\n",
       "    .dataframe tbody tr th {\n",
       "        vertical-align: top;\n",
       "    }\n",
       "\n",
       "    .dataframe thead th {\n",
       "        text-align: right;\n",
       "    }\n",
       "</style>\n",
       "<table border=\"1\" class=\"dataframe\">\n",
       "  <thead>\n",
       "    <tr style=\"text-align: right;\">\n",
       "      <th></th>\n",
       "      <th>task</th>\n",
       "      <th>worker</th>\n",
       "      <th>text</th>\n",
       "    </tr>\n",
       "  </thead>\n",
       "  <tbody>\n",
       "    <tr>\n",
       "      <th>0</th>\n",
       "      <td>https://tlk.s3.yandex.net/annotation_tasks/lib...</td>\n",
       "      <td>964</td>\n",
       "      <td>then again there was no known way to lubricate...</td>\n",
       "    </tr>\n",
       "    <tr>\n",
       "      <th>1</th>\n",
       "      <td>https://tlk.s3.yandex.net/annotation_tasks/lib...</td>\n",
       "      <td>445</td>\n",
       "      <td>then again there was no known way to lubricate...</td>\n",
       "    </tr>\n",
       "    <tr>\n",
       "      <th>2</th>\n",
       "      <td>https://tlk.s3.yandex.net/annotation_tasks/lib...</td>\n",
       "      <td>1889</td>\n",
       "      <td>then again there was no known way to lubricate...</td>\n",
       "    </tr>\n",
       "    <tr>\n",
       "      <th>3</th>\n",
       "      <td>https://tlk.s3.yandex.net/annotation_tasks/lib...</td>\n",
       "      <td>445</td>\n",
       "      <td>almost instantly was forced to the top</td>\n",
       "    </tr>\n",
       "    <tr>\n",
       "      <th>4</th>\n",
       "      <td>https://tlk.s3.yandex.net/annotation_tasks/lib...</td>\n",
       "      <td>964</td>\n",
       "      <td>almost instantly you with wash to the ?</td>\n",
       "    </tr>\n",
       "  </tbody>\n",
       "</table>\n",
       "</div>\n",
       "      <button class=\"colab-df-convert\" onclick=\"convertToInteractive('df-01fec82c-55b0-49f6-8bfa-909c41a0c919')\"\n",
       "              title=\"Convert this dataframe to an interactive table.\"\n",
       "              style=\"display:none;\">\n",
       "        \n",
       "  <svg xmlns=\"http://www.w3.org/2000/svg\" height=\"24px\"viewBox=\"0 0 24 24\"\n",
       "       width=\"24px\">\n",
       "    <path d=\"M0 0h24v24H0V0z\" fill=\"none\"/>\n",
       "    <path d=\"M18.56 5.44l.94 2.06.94-2.06 2.06-.94-2.06-.94-.94-2.06-.94 2.06-2.06.94zm-11 1L8.5 8.5l.94-2.06 2.06-.94-2.06-.94L8.5 2.5l-.94 2.06-2.06.94zm10 10l.94 2.06.94-2.06 2.06-.94-2.06-.94-.94-2.06-.94 2.06-2.06.94z\"/><path d=\"M17.41 7.96l-1.37-1.37c-.4-.4-.92-.59-1.43-.59-.52 0-1.04.2-1.43.59L10.3 9.45l-7.72 7.72c-.78.78-.78 2.05 0 2.83L4 21.41c.39.39.9.59 1.41.59.51 0 1.02-.2 1.41-.59l7.78-7.78 2.81-2.81c.8-.78.8-2.07 0-2.86zM5.41 20L4 18.59l7.72-7.72 1.47 1.35L5.41 20z\"/>\n",
       "  </svg>\n",
       "      </button>\n",
       "      \n",
       "  <style>\n",
       "    .colab-df-container {\n",
       "      display:flex;\n",
       "      flex-wrap:wrap;\n",
       "      gap: 12px;\n",
       "    }\n",
       "\n",
       "    .colab-df-convert {\n",
       "      background-color: #E8F0FE;\n",
       "      border: none;\n",
       "      border-radius: 50%;\n",
       "      cursor: pointer;\n",
       "      display: none;\n",
       "      fill: #1967D2;\n",
       "      height: 32px;\n",
       "      padding: 0 0 0 0;\n",
       "      width: 32px;\n",
       "    }\n",
       "\n",
       "    .colab-df-convert:hover {\n",
       "      background-color: #E2EBFA;\n",
       "      box-shadow: 0px 1px 2px rgba(60, 64, 67, 0.3), 0px 1px 3px 1px rgba(60, 64, 67, 0.15);\n",
       "      fill: #174EA6;\n",
       "    }\n",
       "\n",
       "    [theme=dark] .colab-df-convert {\n",
       "      background-color: #3B4455;\n",
       "      fill: #D2E3FC;\n",
       "    }\n",
       "\n",
       "    [theme=dark] .colab-df-convert:hover {\n",
       "      background-color: #434B5C;\n",
       "      box-shadow: 0px 1px 3px 1px rgba(0, 0, 0, 0.15);\n",
       "      filter: drop-shadow(0px 1px 2px rgba(0, 0, 0, 0.3));\n",
       "      fill: #FFFFFF;\n",
       "    }\n",
       "  </style>\n",
       "\n",
       "      <script>\n",
       "        const buttonEl =\n",
       "          document.querySelector('#df-01fec82c-55b0-49f6-8bfa-909c41a0c919 button.colab-df-convert');\n",
       "        buttonEl.style.display =\n",
       "          google.colab.kernel.accessAllowed ? 'block' : 'none';\n",
       "\n",
       "        async function convertToInteractive(key) {\n",
       "          const element = document.querySelector('#df-01fec82c-55b0-49f6-8bfa-909c41a0c919');\n",
       "          const dataTable =\n",
       "            await google.colab.kernel.invokeFunction('convertToInteractive',\n",
       "                                                     [key], {});\n",
       "          if (!dataTable) return;\n",
       "\n",
       "          const docLinkHtml = 'Like what you see? Visit the ' +\n",
       "            '<a target=\"_blank\" href=https://colab.research.google.com/notebooks/data_table.ipynb>data table notebook</a>'\n",
       "            + ' to learn more about interactive tables.';\n",
       "          element.innerHTML = '';\n",
       "          dataTable['output_type'] = 'display_data';\n",
       "          await google.colab.output.renderOutput(dataTable, element);\n",
       "          const docLink = document.createElement('div');\n",
       "          docLink.innerHTML = docLinkHtml;\n",
       "          element.appendChild(docLink);\n",
       "        }\n",
       "      </script>\n",
       "    </div>\n",
       "  </div>\n",
       "  "
      ],
      "text/plain": [
       "                                                task  worker  \\\n",
       "0  https://tlk.s3.yandex.net/annotation_tasks/lib...     964   \n",
       "1  https://tlk.s3.yandex.net/annotation_tasks/lib...     445   \n",
       "2  https://tlk.s3.yandex.net/annotation_tasks/lib...    1889   \n",
       "3  https://tlk.s3.yandex.net/annotation_tasks/lib...     445   \n",
       "4  https://tlk.s3.yandex.net/annotation_tasks/lib...     964   \n",
       "\n",
       "                                                text  \n",
       "0  then again there was no known way to lubricate...  \n",
       "1  then again there was no known way to lubricate...  \n",
       "2  then again there was no known way to lubricate...  \n",
       "3             almost instantly was forced to the top  \n",
       "4            almost instantly you with wash to the ?  "
      ]
     },
     "execution_count": 5,
     "metadata": {},
     "output_type": "execute_result"
    }
   ],
   "source": [
    "df.head()"
   ]
  },
  {
   "cell_type": "code",
   "execution_count": 69,
   "metadata": {
    "colab": {
     "base_uri": "https://localhost:8080/"
    },
    "id": "CR5CM1e4G0gG",
    "outputId": "2f8fb05c-dd30-4ff0-e20b-73571eb33a95"
   },
   "outputs": [
    {
     "data": {
      "text/plain": [
       "task\n",
       "https://tlk.s3.yandex.net/annotation_tasks/librispeech/test-clean/0.mp3       young fitzooth had been commanded to his mothe...\n",
       "https://tlk.s3.yandex.net/annotation_tasks/librispeech/test-clean/1.mp3       there befell an anxious interview mistress fit...\n",
       "https://tlk.s3.yandex.net/annotation_tasks/librispeech/test-clean/10.mp3        dismiss your squire robin and bid me good e e n\n",
       "https://tlk.s3.yandex.net/annotation_tasks/librispeech/test-clean/100.mp3                    it will be no disappointment to me\n",
       "https://tlk.s3.yandex.net/annotation_tasks/librispeech/test-clean/1000.mp3    i was thinking it's very like the ace of heart...\n",
       "Name: true_label, dtype: object"
      ]
     },
     "execution_count": 69,
     "metadata": {},
     "output_type": "execute_result"
    }
   ],
   "source": [
    "gt.head()"
   ]
  },
  {
   "cell_type": "markdown",
   "metadata": {
    "id": "s0WhJiwZRjIE"
   },
   "source": [
    "## Aggreagtion methods"
   ]
  },
  {
   "cell_type": "markdown",
   "metadata": {
    "id": "aYPa2ZDniEw5"
   },
   "source": [
    "Now, let's see how we can solve the aggregation problem with text responses. We will use three methods - *ROVER*, *TextRASA*, and *TextHRRASA*. All these methods solve the same problem - text aggregation - but in different ways."
   ]
  },
  {
   "cell_type": "markdown",
   "metadata": {
    "id": "rIIgKPZI_Pjy"
   },
   "source": [
    "## ROVER"
   ]
  },
  {
   "cell_type": "markdown",
   "metadata": {
    "id": "_-MUkakUlBFi"
   },
   "source": [
    "At first, we will use Recognizer Output Voting Error Reduction - *ROVER*. It's a dynamic programming method to align sequences. Next, aligned sequences are used to construct the Word Transition Network (WTN): ![image.png](data:image/png;base64,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)\n",
    "Finally, the aggregated sequence is the result of majority voting on each edge of the WTN.\n",
    "\n",
    "We need to determine the tokenizer and detokenizer functions. For the tokenizer, we will split a sentence by spaces and for the detokenizer we will glue the words into a string"
   ]
  },
  {
   "cell_type": "code",
   "execution_count": 7,
   "metadata": {
    "id": "CGy2nWqceYaL"
   },
   "outputs": [],
   "source": [
    "tokenizer = lambda s: s.split(\" \")\n",
    "detokenizer = lambda tokens: \" \".join(tokens)\n",
    "\n",
    "result_rover = ROVER(tokenizer, detokenizer).fit_predict(df)"
   ]
  },
  {
   "cell_type": "code",
   "execution_count": 8,
   "metadata": {
    "colab": {
     "base_uri": "https://localhost:8080/"
    },
    "id": "J1UrtdSPhNxE",
    "outputId": "5f8b8e18-cd48-4681-abf7-7dfe9409282b"
   },
   "outputs": [
    {
     "data": {
      "text/plain": [
       "task\n",
       "https://tlk.s3.yandex.net/annotation_tasks/librispeech/test-clean/0.mp3       young suit had been commanded to his mother's ...\n",
       "https://tlk.s3.yandex.net/annotation_tasks/librispeech/test-clean/1.mp3       there be an anxious interview mistress mr........\n",
       "https://tlk.s3.yandex.net/annotation_tasks/librispeech/test-clean/10.mp3           dismiss your squire robin and bit me evening\n",
       "https://tlk.s3.yandex.net/annotation_tasks/librispeech/test-clean/100.mp3                    it will be no disappointment to me\n",
       "https://tlk.s3.yandex.net/annotation_tasks/librispeech/test-clean/1000.mp3    i was thinking it's very like the ace of heart...\n",
       "Name: agg_text, dtype: object"
      ]
     },
     "execution_count": 8,
     "metadata": {},
     "output_type": "execute_result"
    }
   ],
   "source": [
    "result_rover.head()"
   ]
  },
  {
   "cell_type": "markdown",
   "metadata": {
    "id": "RNPchv6L_Vhr"
   },
   "source": [
    "## TextRASA"
   ]
  },
  {
   "cell_type": "markdown",
   "metadata": {
    "id": "N2fpVsQPBQee"
   },
   "source": [
    "The next method is *TextRASA*. The Reliability Aware Sequence Aggregation (RASA) algorithm consists of three steps:\n",
    "\n",
    "Step 1. Encode the worker answers into embeddings.\n",
    "\n",
    "Step 2. Estimate the global workers' reliabilities β by iteratively performing two steps:\n",
    "\n",
    "For each task, estimate the aggregated embedding:\n",
    "\\begin{align}\n",
    "        \\hat{e}_i = \\frac{\\sum_{k} β_k e^k_i}{\\sum_{k} β_k}\n",
    "    \\end{align}\n",
    "\n",
    " For each worker, estimate the global reliability:\n",
    "\\begin{align}\n",
    "        β_k = \\frac{χ^2_{(α/2,|ν_k|)}}{\\sum_{i} (||e^k_i-\\hat{e}_i||)},\n",
    "    \\end{align}\n",
    "\n",
    "Where $ν_k$ is a set of tasks completed by the worker $k$.\n",
    "\n",
    "​Step 3. Estimate the aggregated result. It is the output which embedding is the closest one to $\\hat{e}_i$"
   ]
  },
  {
   "cell_type": "markdown",
   "metadata": {
    "id": "_hAXDTemP-Pl"
   },
   "source": [
    "We need to determine the encoder - a callable that takes a text and returns a NumPy array containing the corresponding embedding. For that, we will use the model from sentence_transformers. The model.encode returns the embedding."
   ]
  },
  {
   "cell_type": "code",
   "execution_count": null,
   "metadata": {
    "id": "jzIHFkMPxs98"
   },
   "outputs": [],
   "source": [
    "model = SentenceTransformer(\"all-mpnet-base-v2\")\n",
    "\n",
    "result_textrasa = TextRASA(encoder=model.encode).fit_predict(df)"
   ]
  },
  {
   "cell_type": "code",
   "execution_count": 10,
   "metadata": {
    "colab": {
     "base_uri": "https://localhost:8080/",
     "height": 237
    },
    "id": "sye0lyn_hTO0",
    "outputId": "68860e3c-ccac-48f5-f48d-474ed9e2a243"
   },
   "outputs": [
    {
     "data": {
      "text/html": [
       "\n",
       "  <div id=\"df-d863a5ed-9619-43c0-91f3-7bb814f6c9af\">\n",
       "    <div class=\"colab-df-container\">\n",
       "      <div>\n",
       "<style scoped>\n",
       "    .dataframe tbody tr th:only-of-type {\n",
       "        vertical-align: middle;\n",
       "    }\n",
       "\n",
       "    .dataframe tbody tr th {\n",
       "        vertical-align: top;\n",
       "    }\n",
       "\n",
       "    .dataframe thead th {\n",
       "        text-align: right;\n",
       "    }\n",
       "</style>\n",
       "<table border=\"1\" class=\"dataframe\">\n",
       "  <thead>\n",
       "    <tr style=\"text-align: right;\">\n",
       "      <th></th>\n",
       "      <th>text</th>\n",
       "    </tr>\n",
       "    <tr>\n",
       "      <th>task</th>\n",
       "      <th></th>\n",
       "    </tr>\n",
       "  </thead>\n",
       "  <tbody>\n",
       "    <tr>\n",
       "      <th>https://tlk.s3.yandex.net/annotation_tasks/librispeech/test-clean/0.mp3</th>\n",
       "      <td>young fitzu had been commanded to his mother's...</td>\n",
       "    </tr>\n",
       "    <tr>\n",
       "      <th>https://tlk.s3.yandex.net/annotation_tasks/librispeech/test-clean/1.mp3</th>\n",
       "      <td>there be found an anxious interview me filthri...</td>\n",
       "    </tr>\n",
       "    <tr>\n",
       "      <th>https://tlk.s3.yandex.net/annotation_tasks/librispeech/test-clean/10.mp3</th>\n",
       "      <td>dismiss your squire robin and bid me goody in</td>\n",
       "    </tr>\n",
       "    <tr>\n",
       "      <th>https://tlk.s3.yandex.net/annotation_tasks/librispeech/test-clean/100.mp3</th>\n",
       "      <td>it will be no disappointment to me</td>\n",
       "    </tr>\n",
       "    <tr>\n",
       "      <th>https://tlk.s3.yandex.net/annotation_tasks/librispeech/test-clean/1000.mp3</th>\n",
       "      <td>i was thinking it's very like the ace of heart...</td>\n",
       "    </tr>\n",
       "  </tbody>\n",
       "</table>\n",
       "</div>\n",
       "      <button class=\"colab-df-convert\" onclick=\"convertToInteractive('df-d863a5ed-9619-43c0-91f3-7bb814f6c9af')\"\n",
       "              title=\"Convert this dataframe to an interactive table.\"\n",
       "              style=\"display:none;\">\n",
       "        \n",
       "  <svg xmlns=\"http://www.w3.org/2000/svg\" height=\"24px\"viewBox=\"0 0 24 24\"\n",
       "       width=\"24px\">\n",
       "    <path d=\"M0 0h24v24H0V0z\" fill=\"none\"/>\n",
       "    <path d=\"M18.56 5.44l.94 2.06.94-2.06 2.06-.94-2.06-.94-.94-2.06-.94 2.06-2.06.94zm-11 1L8.5 8.5l.94-2.06 2.06-.94-2.06-.94L8.5 2.5l-.94 2.06-2.06.94zm10 10l.94 2.06.94-2.06 2.06-.94-2.06-.94-.94-2.06-.94 2.06-2.06.94z\"/><path d=\"M17.41 7.96l-1.37-1.37c-.4-.4-.92-.59-1.43-.59-.52 0-1.04.2-1.43.59L10.3 9.45l-7.72 7.72c-.78.78-.78 2.05 0 2.83L4 21.41c.39.39.9.59 1.41.59.51 0 1.02-.2 1.41-.59l7.78-7.78 2.81-2.81c.8-.78.8-2.07 0-2.86zM5.41 20L4 18.59l7.72-7.72 1.47 1.35L5.41 20z\"/>\n",
       "  </svg>\n",
       "      </button>\n",
       "      \n",
       "  <style>\n",
       "    .colab-df-container {\n",
       "      display:flex;\n",
       "      flex-wrap:wrap;\n",
       "      gap: 12px;\n",
       "    }\n",
       "\n",
       "    .colab-df-convert {\n",
       "      background-color: #E8F0FE;\n",
       "      border: none;\n",
       "      border-radius: 50%;\n",
       "      cursor: pointer;\n",
       "      display: none;\n",
       "      fill: #1967D2;\n",
       "      height: 32px;\n",
       "      padding: 0 0 0 0;\n",
       "      width: 32px;\n",
       "    }\n",
       "\n",
       "    .colab-df-convert:hover {\n",
       "      background-color: #E2EBFA;\n",
       "      box-shadow: 0px 1px 2px rgba(60, 64, 67, 0.3), 0px 1px 3px 1px rgba(60, 64, 67, 0.15);\n",
       "      fill: #174EA6;\n",
       "    }\n",
       "\n",
       "    [theme=dark] .colab-df-convert {\n",
       "      background-color: #3B4455;\n",
       "      fill: #D2E3FC;\n",
       "    }\n",
       "\n",
       "    [theme=dark] .colab-df-convert:hover {\n",
       "      background-color: #434B5C;\n",
       "      box-shadow: 0px 1px 3px 1px rgba(0, 0, 0, 0.15);\n",
       "      filter: drop-shadow(0px 1px 2px rgba(0, 0, 0, 0.3));\n",
       "      fill: #FFFFFF;\n",
       "    }\n",
       "  </style>\n",
       "\n",
       "      <script>\n",
       "        const buttonEl =\n",
       "          document.querySelector('#df-d863a5ed-9619-43c0-91f3-7bb814f6c9af button.colab-df-convert');\n",
       "        buttonEl.style.display =\n",
       "          google.colab.kernel.accessAllowed ? 'block' : 'none';\n",
       "\n",
       "        async function convertToInteractive(key) {\n",
       "          const element = document.querySelector('#df-d863a5ed-9619-43c0-91f3-7bb814f6c9af');\n",
       "          const dataTable =\n",
       "            await google.colab.kernel.invokeFunction('convertToInteractive',\n",
       "                                                     [key], {});\n",
       "          if (!dataTable) return;\n",
       "\n",
       "          const docLinkHtml = 'Like what you see? Visit the ' +\n",
       "            '<a target=\"_blank\" href=https://colab.research.google.com/notebooks/data_table.ipynb>data table notebook</a>'\n",
       "            + ' to learn more about interactive tables.';\n",
       "          element.innerHTML = '';\n",
       "          dataTable['output_type'] = 'display_data';\n",
       "          await google.colab.output.renderOutput(dataTable, element);\n",
       "          const docLink = document.createElement('div');\n",
       "          docLink.innerHTML = docLinkHtml;\n",
       "          element.appendChild(docLink);\n",
       "        }\n",
       "      </script>\n",
       "    </div>\n",
       "  </div>\n",
       "  "
      ],
      "text/plain": [
       "                                                                                                 text\n",
       "task                                                                                                 \n",
       "https://tlk.s3.yandex.net/annotation_tasks/libr...  young fitzu had been commanded to his mother's...\n",
       "https://tlk.s3.yandex.net/annotation_tasks/libr...  there be found an anxious interview me filthri...\n",
       "https://tlk.s3.yandex.net/annotation_tasks/libr...      dismiss your squire robin and bid me goody in\n",
       "https://tlk.s3.yandex.net/annotation_tasks/libr...                 it will be no disappointment to me\n",
       "https://tlk.s3.yandex.net/annotation_tasks/libr...  i was thinking it's very like the ace of heart..."
      ]
     },
     "execution_count": 10,
     "metadata": {},
     "output_type": "execute_result"
    }
   ],
   "source": [
    "result_textrasa.head()"
   ]
  },
  {
   "cell_type": "markdown",
   "metadata": {
    "id": "7OmGP4h9_fGX"
   },
   "source": [
    "## TextHRRASA"
   ]
  },
  {
   "cell_type": "markdown",
   "metadata": {
    "id": "PsMXwYO1ZCK1"
   },
   "source": [
    "And the last one is *TextHRRASA*. The Hybrid Reliability and Representation Aware Sequence Aggregation (HRRASA) algorithm consists of four steps:\n",
    "\n",
    "Step 1. Encode the worker answers into embeddings.\n",
    "\n",
    "Step 2. Estimate the local workers' reliabilities that represent how well a worker responds to one particular task. The local reliability of the worker \n",
    "$k$ on the task $i$ is denoted by $γ_i^k$ and is calculated by incorporating both types of representations:\n",
    "\n",
    "$γ^k_i = λ_{emb}γ^k_{i,emb} + λ_{seq}γ^k_{i,seq}, λ_{emb} + λ_{seq} = 1,$\n",
    "\n",
    "where the $γ^k_{i,emb}$ value is a reliability calculated on embedding, and the $γ^k_{i,seq}$ value is a reliability calculated on output.\n",
    "The $γ^k_{i,emb}$ value is calculated by the following equation:\n",
    "\n",
    "\n",
    "\n",
    "\n",
    "where $U_i$ is a set of workers' responses on task $i$.\n",
    "\n",
    "The $γ^k_{i,seq}$ value uses some similarity measure $sim$ on the output data, e.g. GLEU similarity on texts:\n",
    "\n",
    "\\begin{align}\n",
    "        γ^k_{i,seq} = \\frac{1}{|u_i|-1} \\sum_{a^{k'}_i∈ u_i,k\\neq k'} exp(\\frac{||e^k_i-e^{k'}||^2}{||e^k_i||^2 ||e^{k'}_i||^2})\n",
    "    \\end{align}\n",
    "\n",
    "Step 3. Estimate the global workers' reliabilities $β$ by iteratively performing two steps:\n",
    "\n",
    "For each task, estimate the aggregated embedding:\n",
    "\n",
    "\\begin{align}\n",
    "        \\hat{e}_i= \\frac{\\sum_k γ^k_i β_k e^k_i}{\\sum_k γ^k_i β_k}.\n",
    "    \\end{align}\n",
    "\n",
    "For each worker, estimate the global reliability:\n",
    "\n",
    "\n",
    "\\begin{align}\n",
    "        β_k = \\frac{χ_{(a/2, |ν_k|)}}{\\sum_i (||e^k_i - \\hat{e}_i||^2/γ^k_i)}.\n",
    "    \\end{align}\n",
    "\n",
    "Step 4. Estimate the aggregated result. It is the output which embedding is the closest one to  If calculate_ranks is true, the method also calculates ranks for each worker response as\n",
    "\n",
    "\\begin{align}\n",
    "        s^k_i = β_k exp(\\frac{||e^k_i-\\hat{e}_i||^2}{||e^k_i||^2 ||\\hat{e}_i||^2}) + γ^k_i.\n",
    "    \\end{align}\n"
   ]
  },
  {
   "cell_type": "code",
   "execution_count": 11,
   "metadata": {
    "id": "ZBbAMGrnZCqK"
   },
   "outputs": [],
   "source": [
    "result_texthrrasa = TextHRRASA(encoder=model.encode).fit_predict(df)"
   ]
  },
  {
   "cell_type": "code",
   "execution_count": 12,
   "metadata": {
    "colab": {
     "base_uri": "https://localhost:8080/",
     "height": 237
    },
    "id": "dndHMTbdhQRg",
    "outputId": "6a798ff8-037a-4c4b-ed85-06c6e7163f90"
   },
   "outputs": [
    {
     "data": {
      "text/html": [
       "\n",
       "  <div id=\"df-25ba6e63-d688-4bcf-9eff-a6b52fa3f898\">\n",
       "    <div class=\"colab-df-container\">\n",
       "      <div>\n",
       "<style scoped>\n",
       "    .dataframe tbody tr th:only-of-type {\n",
       "        vertical-align: middle;\n",
       "    }\n",
       "\n",
       "    .dataframe tbody tr th {\n",
       "        vertical-align: top;\n",
       "    }\n",
       "\n",
       "    .dataframe thead th {\n",
       "        text-align: right;\n",
       "    }\n",
       "</style>\n",
       "<table border=\"1\" class=\"dataframe\">\n",
       "  <thead>\n",
       "    <tr style=\"text-align: right;\">\n",
       "      <th></th>\n",
       "      <th>text</th>\n",
       "    </tr>\n",
       "    <tr>\n",
       "      <th>task</th>\n",
       "      <th></th>\n",
       "    </tr>\n",
       "  </thead>\n",
       "  <tbody>\n",
       "    <tr>\n",
       "      <th>https://tlk.s3.yandex.net/annotation_tasks/librispeech/test-clean/0.mp3</th>\n",
       "      <td>young fitzu had been commanded to his mother's...</td>\n",
       "    </tr>\n",
       "    <tr>\n",
       "      <th>https://tlk.s3.yandex.net/annotation_tasks/librispeech/test-clean/1.mp3</th>\n",
       "      <td>there be found an anxious interview me filthri...</td>\n",
       "    </tr>\n",
       "    <tr>\n",
       "      <th>https://tlk.s3.yandex.net/annotation_tasks/librispeech/test-clean/10.mp3</th>\n",
       "      <td>dismiss your squire robin and bid me goody in</td>\n",
       "    </tr>\n",
       "    <tr>\n",
       "      <th>https://tlk.s3.yandex.net/annotation_tasks/librispeech/test-clean/100.mp3</th>\n",
       "      <td>it will be no disappointment to me</td>\n",
       "    </tr>\n",
       "    <tr>\n",
       "      <th>https://tlk.s3.yandex.net/annotation_tasks/librispeech/test-clean/1000.mp3</th>\n",
       "      <td>i was thinking it's very like the ace of heart...</td>\n",
       "    </tr>\n",
       "  </tbody>\n",
       "</table>\n",
       "</div>\n",
       "      <button class=\"colab-df-convert\" onclick=\"convertToInteractive('df-25ba6e63-d688-4bcf-9eff-a6b52fa3f898')\"\n",
       "              title=\"Convert this dataframe to an interactive table.\"\n",
       "              style=\"display:none;\">\n",
       "        \n",
       "  <svg xmlns=\"http://www.w3.org/2000/svg\" height=\"24px\"viewBox=\"0 0 24 24\"\n",
       "       width=\"24px\">\n",
       "    <path d=\"M0 0h24v24H0V0z\" fill=\"none\"/>\n",
       "    <path d=\"M18.56 5.44l.94 2.06.94-2.06 2.06-.94-2.06-.94-.94-2.06-.94 2.06-2.06.94zm-11 1L8.5 8.5l.94-2.06 2.06-.94-2.06-.94L8.5 2.5l-.94 2.06-2.06.94zm10 10l.94 2.06.94-2.06 2.06-.94-2.06-.94-.94-2.06-.94 2.06-2.06.94z\"/><path d=\"M17.41 7.96l-1.37-1.37c-.4-.4-.92-.59-1.43-.59-.52 0-1.04.2-1.43.59L10.3 9.45l-7.72 7.72c-.78.78-.78 2.05 0 2.83L4 21.41c.39.39.9.59 1.41.59.51 0 1.02-.2 1.41-.59l7.78-7.78 2.81-2.81c.8-.78.8-2.07 0-2.86zM5.41 20L4 18.59l7.72-7.72 1.47 1.35L5.41 20z\"/>\n",
       "  </svg>\n",
       "      </button>\n",
       "      \n",
       "  <style>\n",
       "    .colab-df-container {\n",
       "      display:flex;\n",
       "      flex-wrap:wrap;\n",
       "      gap: 12px;\n",
       "    }\n",
       "\n",
       "    .colab-df-convert {\n",
       "      background-color: #E8F0FE;\n",
       "      border: none;\n",
       "      border-radius: 50%;\n",
       "      cursor: pointer;\n",
       "      display: none;\n",
       "      fill: #1967D2;\n",
       "      height: 32px;\n",
       "      padding: 0 0 0 0;\n",
       "      width: 32px;\n",
       "    }\n",
       "\n",
       "    .colab-df-convert:hover {\n",
       "      background-color: #E2EBFA;\n",
       "      box-shadow: 0px 1px 2px rgba(60, 64, 67, 0.3), 0px 1px 3px 1px rgba(60, 64, 67, 0.15);\n",
       "      fill: #174EA6;\n",
       "    }\n",
       "\n",
       "    [theme=dark] .colab-df-convert {\n",
       "      background-color: #3B4455;\n",
       "      fill: #D2E3FC;\n",
       "    }\n",
       "\n",
       "    [theme=dark] .colab-df-convert:hover {\n",
       "      background-color: #434B5C;\n",
       "      box-shadow: 0px 1px 3px 1px rgba(0, 0, 0, 0.15);\n",
       "      filter: drop-shadow(0px 1px 2px rgba(0, 0, 0, 0.3));\n",
       "      fill: #FFFFFF;\n",
       "    }\n",
       "  </style>\n",
       "\n",
       "      <script>\n",
       "        const buttonEl =\n",
       "          document.querySelector('#df-25ba6e63-d688-4bcf-9eff-a6b52fa3f898 button.colab-df-convert');\n",
       "        buttonEl.style.display =\n",
       "          google.colab.kernel.accessAllowed ? 'block' : 'none';\n",
       "\n",
       "        async function convertToInteractive(key) {\n",
       "          const element = document.querySelector('#df-25ba6e63-d688-4bcf-9eff-a6b52fa3f898');\n",
       "          const dataTable =\n",
       "            await google.colab.kernel.invokeFunction('convertToInteractive',\n",
       "                                                     [key], {});\n",
       "          if (!dataTable) return;\n",
       "\n",
       "          const docLinkHtml = 'Like what you see? Visit the ' +\n",
       "            '<a target=\"_blank\" href=https://colab.research.google.com/notebooks/data_table.ipynb>data table notebook</a>'\n",
       "            + ' to learn more about interactive tables.';\n",
       "          element.innerHTML = '';\n",
       "          dataTable['output_type'] = 'display_data';\n",
       "          await google.colab.output.renderOutput(dataTable, element);\n",
       "          const docLink = document.createElement('div');\n",
       "          docLink.innerHTML = docLinkHtml;\n",
       "          element.appendChild(docLink);\n",
       "        }\n",
       "      </script>\n",
       "    </div>\n",
       "  </div>\n",
       "  "
      ],
      "text/plain": [
       "                                                                                                 text\n",
       "task                                                                                                 \n",
       "https://tlk.s3.yandex.net/annotation_tasks/libr...  young fitzu had been commanded to his mother's...\n",
       "https://tlk.s3.yandex.net/annotation_tasks/libr...  there be found an anxious interview me filthri...\n",
       "https://tlk.s3.yandex.net/annotation_tasks/libr...      dismiss your squire robin and bid me goody in\n",
       "https://tlk.s3.yandex.net/annotation_tasks/libr...                 it will be no disappointment to me\n",
       "https://tlk.s3.yandex.net/annotation_tasks/libr...  i was thinking it's very like the ace of heart..."
      ]
     },
     "execution_count": 12,
     "metadata": {},
     "output_type": "execute_result"
    }
   ],
   "source": [
    "result_texthrrasa.head()"
   ]
  },
  {
   "cell_type": "markdown",
   "metadata": {
    "id": "kGcgN8Kv_mmE"
   },
   "source": [
    "## Comparing the results with WER"
   ]
  },
  {
   "cell_type": "markdown",
   "metadata": {
    "id": "KVeqVuTPBZaZ"
   },
   "source": [
    " Let's compare the results of these methods - we will use word error rate (*WER*) from jiwer. It is a common metric of the performance of an automatic speech recognition system. This value indicates the percentage of words that were incorrectly predicted. The lower the value, the better the performance of the ASR system with a WER of 0 being a perfect score. Word error rate can then be computed as:\n",
    "\\begin{align}\n",
    "WER = \\frac{S+D+I}{S+D+C},\n",
    "\\end{align}\n",
    "Where: \n",
    "- S is the number of substitutions, is the number of deletions, \n",
    "- D is the number of deletions,\n",
    "- I is the number of insertions, \n",
    "- C is the number of correct words.\n",
    "\n",
    "\n",
    "Let's see the difference!"
   ]
  },
  {
   "cell_type": "markdown",
   "metadata": {
    "id": "pE8GddB1Oq6a"
   },
   "source": [
    "We need to sort out our golden set and result set. For this, we will arrange a target set and input set according to values with the same index."
   ]
  },
  {
   "cell_type": "markdown",
   "metadata": {
    "id": "2Ueh4WKcQ4lk"
   },
   "source": [
    "WER calculation"
   ]
  },
  {
   "cell_type": "code",
   "execution_count": 72,
   "metadata": {
    "colab": {
     "base_uri": "https://localhost:8080/"
    },
    "id": "SWTWovRtPqYP",
    "outputId": "97b12dbc-60b6-46a1-da54-96477e8488fa"
   },
   "outputs": [
    {
     "name": "stdout",
     "output_type": "stream",
     "text": [
      "The WER of TextRASA - 0.09051658551430311\n",
      "The WER of TextHRRASA - 0.09378804017041996\n",
      "The WER of ROVER - 0.06929017041996348\n"
     ]
    }
   ],
   "source": [
    "print(\"The WER of TextRASA -\", wer(gt.to_list(), result_textrasa[\"text\"].to_list()))\n",
    "\n",
    "print(\"The WER of TextHRRASA -\", wer(gt.to_list(), result_texthrrasa[\"text\"].to_list()))\n",
    "\n",
    "print(\"The WER of ROVER -\", wer(gt.to_list(), result_rover.to_list()))"
   ]
  },
  {
   "cell_type": "markdown",
   "metadata": {
    "id": "tWxuSNk-AbpI"
   },
   "source": [
    "## Summary"
   ]
  },
  {
   "cell_type": "markdown",
   "metadata": {
    "id": "w6-bMosdquIJ"
   },
   "source": [
    "We got extremely excellent results by all methods, as expected, the ROVER method gave a slightly better result. By the way, ROVER can even construct new transcriptions but RASA/HRRASA can only extract one from provided. So, if you do not sure what to use - try ROVER and be cool!\n",
    "\n",
    "\n",
    "Thus, you have solved the problem posed - text aggregation - with the help of the Crowd-Kit library!"
   ]
  }
 ],
 "metadata": {
  "accelerator": "GPU",
  "colab": {
   "provenance": []
  },
  "gpuClass": "standard",
  "kernelspec": {
   "display_name": "Python 3 (ipykernel)",
   "language": "python",
   "name": "python3"
  },
  "language_info": {
   "codemirror_mode": {
    "name": "ipython",
    "version": 3
   },
   "file_extension": ".py",
   "mimetype": "text/x-python",
   "name": "python",
   "nbconvert_exporter": "python",
   "pygments_lexer": "ipython3",
   "version": "3.11.7"
  }
 },
 "nbformat": 4,
 "nbformat_minor": 4
}
