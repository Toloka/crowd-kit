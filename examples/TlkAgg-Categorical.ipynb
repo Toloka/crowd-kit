{
 "cells": [
  {
   "cell_type": "markdown",
   "metadata": {},
   "source": [
    "# How to Aggregate Categorical Replies via Crowdsourcing (Demo from ICML 2021)\n",
    "\n",
    "*This example was originally posted on [HackerNoon](https://hackernoon.com/how-to-aggregate-categorical-replies-via-crowdsourcing-demo-from-icml-2021-8u4j37hz).*\n",
    "\n",
    "We will aggregate categorical responses with the help of two classical algorithms – Majority Vote and Dawid-Skene.\n",
    "\n",
    "We’ll be using [Crowd-Kit](https://pypi.org/project/crowd-kit/), an open-source computational quality control library that offers efficient implementations of various quality control methods, including aggregation, uncertainty, agreements, and more. Crowd-Kit is designed to work with Python data science libraries like NumPy, SciPy, and pandas, while providing a very familiar programming experience with well-known concepts and APIs. It’s also platform agnostic. As soon as you provide the data as a table of annotators, tasks, and responses, the library will deliver high-quality output regardless of the platform you use.\n",
    "\n",
    "In this demonstration, we will aggregate some responses provided by crowd annotators. For the project, they had to indicate whether the link to a target website was correct or not. Given that we asked multiple annotators to annotate each URL, we needed to choose the correct response, considering annotators’ skills and task difficulties. This was why we need aggregation. It’s a vast research topic, and there are many methods available for performing this task, most of which are based on probabilistic graphical models. Implementing them efficiently is another challenging task.\n",
    "\n",
    "First, we need to install the Crowd-Kit library from the Python Package Index. We’ll also need annotated data. We’ll be using Toloka Aggregation Relevance [datasets](https://toloka.ai/datasets) with two categories: relevant and not relevant. These datasets contain anonymized data that is safe to work with. I’ll use the Crowd-Kit dataset downloader to download them from the Internet as pandas data frames. Again, feel free to use a different source of annotated data; open datasets are, naturally, fair play as well. Now we’re ready to go."
   ]
  },
  {
   "cell_type": "code",
   "execution_count": 1,
   "metadata": {
    "tags": [
     "pip"
    ]
   },
   "outputs": [],
   "source": [
    "%%capture\n",
    "%pip install -U crowd-kit==1.2.1"
   ]
  },
  {
   "cell_type": "code",
   "execution_count": 2,
   "metadata": {},
   "outputs": [],
   "source": [
    "from crowdkit.datasets import load_dataset"
   ]
  },
  {
   "cell_type": "code",
   "execution_count": 3,
   "metadata": {},
   "outputs": [],
   "source": [
    "df, df_gt = load_dataset(\"relevance-2\")"
   ]
  },
  {
   "cell_type": "markdown",
   "metadata": {},
   "source": [
    "The `load_dataset` function returns a pair of elements. The first element is the pandas data frame with the crowdsourced data. The second element is the ground truth dataset, whenever possible. The data frame, or `df`, has three columns: `worker`, `task`, and `label`. The label is set to `0` if the document is rated as non-relevant by the given annotator in the given task, otherwise the label will be `1`. The ground truth dataset `df_gt` is a pandas series that contains the correct responses to the tasks put to the index of this series.\n",
    "\n",
    "So the data has been downloaded, and before we move forward, let’s have a look at the dataset."
   ]
  },
  {
   "cell_type": "code",
   "execution_count": 4,
   "metadata": {},
   "outputs": [
    {
     "data": {
      "text/html": [
       "<div>\n",
       "<style scoped>\n",
       "    .dataframe tbody tr th:only-of-type {\n",
       "        vertical-align: middle;\n",
       "    }\n",
       "\n",
       "    .dataframe tbody tr th {\n",
       "        vertical-align: top;\n",
       "    }\n",
       "\n",
       "    .dataframe thead th {\n",
       "        text-align: right;\n",
       "    }\n",
       "</style>\n",
       "<table border=\"1\" class=\"dataframe\">\n",
       "  <thead>\n",
       "    <tr style=\"text-align: right;\">\n",
       "      <th></th>\n",
       "      <th>worker</th>\n",
       "      <th>task</th>\n",
       "      <th>label</th>\n",
       "    </tr>\n",
       "  </thead>\n",
       "  <tbody>\n",
       "    <tr>\n",
       "      <th>0</th>\n",
       "      <td>w851</td>\n",
       "      <td>t30685</td>\n",
       "      <td>1</td>\n",
       "    </tr>\n",
       "    <tr>\n",
       "      <th>1</th>\n",
       "      <td>w6991</td>\n",
       "      <td>t30008</td>\n",
       "      <td>0</td>\n",
       "    </tr>\n",
       "    <tr>\n",
       "      <th>2</th>\n",
       "      <td>w2596</td>\n",
       "      <td>t36316</td>\n",
       "      <td>0</td>\n",
       "    </tr>\n",
       "    <tr>\n",
       "      <th>3</th>\n",
       "      <td>w5507</td>\n",
       "      <td>t15145</td>\n",
       "      <td>1</td>\n",
       "    </tr>\n",
       "    <tr>\n",
       "      <th>4</th>\n",
       "      <td>w2982</td>\n",
       "      <td>t44785</td>\n",
       "      <td>1</td>\n",
       "    </tr>\n",
       "    <tr>\n",
       "      <th>...</th>\n",
       "      <td>...</td>\n",
       "      <td>...</td>\n",
       "      <td>...</td>\n",
       "    </tr>\n",
       "    <tr>\n",
       "      <th>475531</th>\n",
       "      <td>w4660</td>\n",
       "      <td>t62250</td>\n",
       "      <td>1</td>\n",
       "    </tr>\n",
       "    <tr>\n",
       "      <th>475532</th>\n",
       "      <td>w6630</td>\n",
       "      <td>t46626</td>\n",
       "      <td>0</td>\n",
       "    </tr>\n",
       "    <tr>\n",
       "      <th>475533</th>\n",
       "      <td>w4605</td>\n",
       "      <td>t93513</td>\n",
       "      <td>1</td>\n",
       "    </tr>\n",
       "    <tr>\n",
       "      <th>475534</th>\n",
       "      <td>w1928</td>\n",
       "      <td>t29002</td>\n",
       "      <td>0</td>\n",
       "    </tr>\n",
       "    <tr>\n",
       "      <th>475535</th>\n",
       "      <td>w5375</td>\n",
       "      <td>t49052</td>\n",
       "      <td>1</td>\n",
       "    </tr>\n",
       "  </tbody>\n",
       "</table>\n",
       "<p>475536 rows × 3 columns</p>\n",
       "</div>"
      ],
      "text/plain": [
       "       worker    task  label\n",
       "0        w851  t30685      1\n",
       "1       w6991  t30008      0\n",
       "2       w2596  t36316      0\n",
       "3       w5507  t15145      1\n",
       "4       w2982  t44785      1\n",
       "...       ...     ...    ...\n",
       "475531  w4660  t62250      1\n",
       "475532  w6630  t46626      0\n",
       "475533  w4605  t93513      1\n",
       "475534  w1928  t29002      0\n",
       "475535  w5375  t49052      1\n",
       "\n",
       "[475536 rows x 3 columns]"
      ]
     },
     "execution_count": 4,
     "metadata": {},
     "output_type": "execute_result"
    }
   ],
   "source": [
    "df"
   ]
  },
  {
   "cell_type": "code",
   "execution_count": 5,
   "metadata": {},
   "outputs": [
    {
     "data": {
      "text/plain": [
       "task\n",
       "t30006    0\n",
       "t33578    0\n",
       "t22462    1\n",
       "t52093    0\n",
       "t26935    0\n",
       "         ..\n",
       "t57345    1\n",
       "t81052    1\n",
       "t7189     1\n",
       "t80463    0\n",
       "t93643    0\n",
       "Name: true_label, Length: 10079, dtype: int64"
      ]
     },
     "execution_count": 5,
     "metadata": {},
     "output_type": "execute_result"
    }
   ],
   "source": [
    "df_gt"
   ]
  },
  {
   "cell_type": "markdown",
   "metadata": {},
   "source": [
    "We import three aggregation classes: Majority Vote, Wawa, and Dawid-Skene."
   ]
  },
  {
   "cell_type": "code",
   "execution_count": 6,
   "metadata": {},
   "outputs": [],
   "source": [
    "from crowdkit.aggregation import DawidSkene, MajorityVote, Wawa"
   ]
  },
  {
   "cell_type": "markdown",
   "metadata": {},
   "source": [
    "Let's proceed to the aggregation using majority vote, a very simple heuristic method. We create an instance of Majority Vote and call the fit_predict method to perform majority vote aggregation of our data."
   ]
  },
  {
   "cell_type": "code",
   "execution_count": 7,
   "metadata": {},
   "outputs": [
    {
     "data": {
      "text/plain": [
       "task\n",
       "t0       1\n",
       "t1       1\n",
       "t10      1\n",
       "t100     0\n",
       "t1000    0\n",
       "        ..\n",
       "t9995    1\n",
       "t9996    0\n",
       "t9997    0\n",
       "t9998    0\n",
       "t9999    1\n",
       "Name: agg_label, Length: 99319, dtype: int64"
      ]
     },
     "execution_count": 7,
     "metadata": {},
     "output_type": "execute_result"
    }
   ],
   "source": [
    "agg_mv = MajorityVote().fit_predict(df)\n",
    "agg_mv"
   ]
  },
  {
   "cell_type": "markdown",
   "metadata": {},
   "source": [
    "This simple heuristic works extremely well, especially on small datasets, so it’s always a good idea to try it. Note that the ties are broken randomly to avoid bias towards the first occurring label.\n",
    "\n",
    "However, the classical majority vote approach does not take into account the skills of the annotators. But sometimes it’s useful to weigh every annotator's contribution to the final label proportionally to their agreement with the aggregate. This approach is called Wawa, and Crowd-Kit also offers it. Internally, it computes the majority vote and then re-weights the annotators’ votes with the fraction of responses matched to that majority vote."
   ]
  },
  {
   "cell_type": "code",
   "execution_count": 8,
   "metadata": {},
   "outputs": [
    {
     "data": {
      "text/plain": [
       "task\n",
       "t0       1\n",
       "t1       1\n",
       "t10      1\n",
       "t100     0\n",
       "t1000    0\n",
       "        ..\n",
       "t9995    1\n",
       "t9996    0\n",
       "t9997    0\n",
       "t9998    0\n",
       "t9999    1\n",
       "Name: agg_label, Length: 99319, dtype: int64"
      ]
     },
     "execution_count": 8,
     "metadata": {},
     "output_type": "execute_result"
    }
   ],
   "source": [
    "agg_wawa = Wawa().fit_predict(df)\n",
    "agg_wawa"
   ]
  },
  {
   "cell_type": "markdown",
   "metadata": {},
   "source": [
    "Now we perform the same operation with Dawid-Skene."
   ]
  },
  {
   "cell_type": "code",
   "execution_count": 9,
   "metadata": {},
   "outputs": [
    {
     "data": {
      "text/plain": [
       "task\n",
       "t30685    1\n",
       "t30008    0\n",
       "t36316    0\n",
       "t15145    1\n",
       "t44785    0\n",
       "         ..\n",
       "t95222    0\n",
       "t83525    0\n",
       "t49227    0\n",
       "t96106    1\n",
       "t16185    1\n",
       "Name: agg_label, Length: 99319, dtype: int64"
      ]
     },
     "execution_count": 9,
     "metadata": {},
     "output_type": "execute_result"
    }
   ],
   "source": [
    "agg_ds = DawidSkene(n_iter=10).fit_predict(df)\n",
    "agg_ds"
   ]
  },
  {
   "cell_type": "markdown",
   "metadata": {},
   "source": [
    "This is another classical aggregation approach in crowdsourcing, which was originally designed in the 70s for probabilistic modeling of medical examinations. The code is virtually the same: we create an instance, set the number of algorithm iterations, call `fit_predict`, and obtain the aggregated results.\n",
    "\n",
    "Let’s evaluate the quality of our aggregations. We will use the well-known F1 score from the scikit-learn library."
   ]
  },
  {
   "cell_type": "code",
   "execution_count": 10,
   "metadata": {},
   "outputs": [],
   "source": [
    "from sklearn.metrics import f1_score"
   ]
  },
  {
   "cell_type": "markdown",
   "metadata": {},
   "source": [
    "In this dataset, the ground truth labels are available only for the subset of tasks, so we need to use index slicing. This allows us to perform model selection using well-known and reliable tools like pandas and scikit-learn together with Crowd-Kit."
   ]
  },
  {
   "cell_type": "code",
   "execution_count": 11,
   "metadata": {},
   "outputs": [
    {
     "data": {
      "text/plain": [
       "0.7621861152141802"
      ]
     },
     "execution_count": 11,
     "metadata": {},
     "output_type": "execute_result"
    }
   ],
   "source": [
    "f1_score(df_gt, agg_mv[df_gt.index])"
   ]
  },
  {
   "cell_type": "code",
   "execution_count": 12,
   "metadata": {},
   "outputs": [
    {
     "data": {
      "text/plain": [
       "0.7610675039246467"
      ]
     },
     "execution_count": 12,
     "metadata": {},
     "output_type": "execute_result"
    }
   ],
   "source": [
    "f1_score(df_gt, agg_wawa[df_gt.index])"
   ]
  },
  {
   "cell_type": "code",
   "execution_count": 13,
   "metadata": {},
   "outputs": [
    {
     "data": {
      "text/plain": [
       "0.7878520154610712"
      ]
     },
     "execution_count": 13,
     "metadata": {},
     "output_type": "execute_result"
    }
   ],
   "source": [
    "f1_score(df_gt, agg_ds[df_gt.index])"
   ]
  },
  {
   "cell_type": "markdown",
   "metadata": {},
   "source": [
    "In our experiment, the best quality was offered by the Dawid-Skene model. Having selected the model, we want to export all of the aggregated data, which makes sense in downstream applications.\n",
    "\n",
    "We now transform the series to a data frame for later use by specifing the desired column name.\n",
    "\n",
    "Let’s take a look inside it. The data is here, the responses are here, and the aggregation results are also here."
   ]
  },
  {
   "cell_type": "code",
   "execution_count": 14,
   "metadata": {},
   "outputs": [
    {
     "data": {
      "text/html": [
       "<div>\n",
       "<style scoped>\n",
       "    .dataframe tbody tr th:only-of-type {\n",
       "        vertical-align: middle;\n",
       "    }\n",
       "\n",
       "    .dataframe tbody tr th {\n",
       "        vertical-align: top;\n",
       "    }\n",
       "\n",
       "    .dataframe thead th {\n",
       "        text-align: right;\n",
       "    }\n",
       "</style>\n",
       "<table border=\"1\" class=\"dataframe\">\n",
       "  <thead>\n",
       "    <tr style=\"text-align: right;\">\n",
       "      <th></th>\n",
       "      <th>task</th>\n",
       "      <th>label</th>\n",
       "    </tr>\n",
       "  </thead>\n",
       "  <tbody>\n",
       "    <tr>\n",
       "      <th>0</th>\n",
       "      <td>t30685</td>\n",
       "      <td>1</td>\n",
       "    </tr>\n",
       "    <tr>\n",
       "      <th>1</th>\n",
       "      <td>t30008</td>\n",
       "      <td>0</td>\n",
       "    </tr>\n",
       "    <tr>\n",
       "      <th>2</th>\n",
       "      <td>t36316</td>\n",
       "      <td>0</td>\n",
       "    </tr>\n",
       "    <tr>\n",
       "      <th>3</th>\n",
       "      <td>t15145</td>\n",
       "      <td>1</td>\n",
       "    </tr>\n",
       "    <tr>\n",
       "      <th>4</th>\n",
       "      <td>t44785</td>\n",
       "      <td>0</td>\n",
       "    </tr>\n",
       "    <tr>\n",
       "      <th>...</th>\n",
       "      <td>...</td>\n",
       "      <td>...</td>\n",
       "    </tr>\n",
       "    <tr>\n",
       "      <th>99314</th>\n",
       "      <td>t95222</td>\n",
       "      <td>0</td>\n",
       "    </tr>\n",
       "    <tr>\n",
       "      <th>99315</th>\n",
       "      <td>t83525</td>\n",
       "      <td>0</td>\n",
       "    </tr>\n",
       "    <tr>\n",
       "      <th>99316</th>\n",
       "      <td>t49227</td>\n",
       "      <td>0</td>\n",
       "    </tr>\n",
       "    <tr>\n",
       "      <th>99317</th>\n",
       "      <td>t96106</td>\n",
       "      <td>1</td>\n",
       "    </tr>\n",
       "    <tr>\n",
       "      <th>99318</th>\n",
       "      <td>t16185</td>\n",
       "      <td>1</td>\n",
       "    </tr>\n",
       "  </tbody>\n",
       "</table>\n",
       "<p>99319 rows × 2 columns</p>\n",
       "</div>"
      ],
      "text/plain": [
       "         task  label\n",
       "0      t30685      1\n",
       "1      t30008      0\n",
       "2      t36316      0\n",
       "3      t15145      1\n",
       "4      t44785      0\n",
       "...       ...    ...\n",
       "99314  t95222      0\n",
       "99315  t83525      0\n",
       "99316  t49227      0\n",
       "99317  t96106      1\n",
       "99318  t16185      1\n",
       "\n",
       "[99319 rows x 2 columns]"
      ]
     },
     "execution_count": 14,
     "metadata": {},
     "output_type": "execute_result"
    }
   ],
   "source": [
    "agg_ds.to_frame(\"label\").reset_index()"
   ]
  },
  {
   "cell_type": "markdown",
   "metadata": {},
   "source": [
    "We’ve obtained aggregated data in just a few lines of code using [Crowd-Kit](https://github.com/Toloka/crowd-kit) and commonly-used Python data science libraries."
   ]
  },
  {
   "cell_type": "code",
   "execution_count": null,
   "metadata": {},
   "outputs": [],
   "source": []
  }
 ],
 "metadata": {
  "kernelspec": {
   "display_name": "Python 3",
   "language": "python",
   "name": "python3"
  },
  "language_info": {
   "codemirror_mode": {
    "name": "ipython",
    "version": 3
   },
   "file_extension": ".py",
   "mimetype": "text/x-python",
   "name": "python",
   "nbconvert_exporter": "python",
   "pygments_lexer": "ipython3",
   "version": "3.7.5"
  }
 },
 "nbformat": 4,
 "nbformat_minor": 4
}
