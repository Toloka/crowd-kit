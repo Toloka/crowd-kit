{
  "nbformat": 4,
  "nbformat_minor": 0,
  "metadata": {
    "colab": {
      "provenance": []
    },
    "kernelspec": {
      "name": "python3",
      "display_name": "Python 3"
    },
    "language_info": {
      "name": "python"
    }
  },
  "cells": [
    {
      "cell_type": "markdown",
      "source": [
        "# How to Aggregate Image-Segmentation tasks via Crowdsourcing"
      ],
      "metadata": {
        "id": "Eult4u-UWW-D"
      }
    },
    {
      "cell_type": "markdown",
      "source": [
        "Welcome to this tutorial!\n",
        "\n",
        "Aggregation of Image-Segmentation tasks is the same integral thing as text aggregation, etc. In this notebook, we will find out how to aggregate such data with methods from Crowd-Kit library by Toloka!"
      ],
      "metadata": {
        "id": "xRo4EOsEm0T3"
      }
    },
    {
      "cell_type": "markdown",
      "source": [
        "## Libraries importing"
      ],
      "metadata": {
        "id": "iGIRbiXJGv82"
      }
    },
    {
      "cell_type": "markdown",
      "source": [
        "First of all, let's install and import necessary libraries"
      ],
      "metadata": {
        "id": "-7bznAmgnm8v"
      }
    },
    {
      "cell_type": "code",
      "execution_count": null,
      "metadata": {
        "id": "Pk-FEs7Qth1G"
      },
      "outputs": [],
      "source": [
        "%%capture\n",
        "%pip install crowd-kit\n",
        "import pandas as pd\n",
        "import numpy as np\n",
        "from crowdkit.datasets import load_dataset\n",
        "from crowdkit.aggregation import SegmentationEM\n",
        "from crowdkit.aggregation import SegmentationMajorityVote\n",
        "from crowdkit.aggregation import SegmentationRASA"
      ]
    },
    {
      "cell_type": "markdown",
      "source": [
        "## Data preparation"
      ],
      "metadata": {
        "id": "LGOGkUyzG1i4"
      }
    },
    {
      "cell_type": "markdown",
      "source": [
        "For instance, we are going to use the *mscoco_small* data from Crowd-Kit"
      ],
      "metadata": {
        "id": "UoKCwta1n0rb"
      }
    },
    {
      "cell_type": "code",
      "source": [
        "df, gt = load_dataset('mscoco_small')"
      ],
      "metadata": {
        "id": "BA2dNAabvnuw"
      },
      "execution_count": null,
      "outputs": []
    },
    {
      "cell_type": "markdown",
      "source": [
        "Let's see the structure of our dataset"
      ],
      "metadata": {
        "id": "JXak18NJovOy"
      }
    },
    {
      "cell_type": "code",
      "source": [
        "df.head()"
      ],
      "metadata": {
        "colab": {
          "base_uri": "https://localhost:8080/",
          "height": 206
        },
        "id": "5tbGC-rivnxK",
        "outputId": "86de6dc9-34f3-46bc-c497-4e853bdaaa38"
      },
      "execution_count": null,
      "outputs": [
        {
          "output_type": "execute_result",
          "data": {
            "text/plain": [
              "    task                            worker  \\\n",
              "90    10  0e8e2270aac26ac915d565882e0a83db   \n",
              "91    10  48b03f3a39a32c4e0a186b772b415998   \n",
              "92    10  ba9b643a79bb5e5cb2eb083dc2a5ab26   \n",
              "93    10  61006a693705637714e8415470b42e30   \n",
              "94    10  c1b20bca2b8480af13ff8917b01d7edd   \n",
              "\n",
              "                                         segmentation  \n",
              "90  [[False, False, False, False, False, False, Fa...  \n",
              "91  [[False, False, False, False, False, False, Fa...  \n",
              "92  [[False, False, False, False, False, False, Fa...  \n",
              "93  [[False, False, False, False, False, False, Fa...  \n",
              "94  [[False, False, False, False, False, False, Fa...  "
            ],
            "text/html": [
              "\n",
              "  <div id=\"df-3a95d611-767c-4ed9-9239-eac7ca0db2d6\">\n",
              "    <div class=\"colab-df-container\">\n",
              "      <div>\n",
              "<style scoped>\n",
              "    .dataframe tbody tr th:only-of-type {\n",
              "        vertical-align: middle;\n",
              "    }\n",
              "\n",
              "    .dataframe tbody tr th {\n",
              "        vertical-align: top;\n",
              "    }\n",
              "\n",
              "    .dataframe thead th {\n",
              "        text-align: right;\n",
              "    }\n",
              "</style>\n",
              "<table border=\"1\" class=\"dataframe\">\n",
              "  <thead>\n",
              "    <tr style=\"text-align: right;\">\n",
              "      <th></th>\n",
              "      <th>task</th>\n",
              "      <th>worker</th>\n",
              "      <th>segmentation</th>\n",
              "    </tr>\n",
              "  </thead>\n",
              "  <tbody>\n",
              "    <tr>\n",
              "      <th>90</th>\n",
              "      <td>10</td>\n",
              "      <td>0e8e2270aac26ac915d565882e0a83db</td>\n",
              "      <td>[[False, False, False, False, False, False, Fa...</td>\n",
              "    </tr>\n",
              "    <tr>\n",
              "      <th>91</th>\n",
              "      <td>10</td>\n",
              "      <td>48b03f3a39a32c4e0a186b772b415998</td>\n",
              "      <td>[[False, False, False, False, False, False, Fa...</td>\n",
              "    </tr>\n",
              "    <tr>\n",
              "      <th>92</th>\n",
              "      <td>10</td>\n",
              "      <td>ba9b643a79bb5e5cb2eb083dc2a5ab26</td>\n",
              "      <td>[[False, False, False, False, False, False, Fa...</td>\n",
              "    </tr>\n",
              "    <tr>\n",
              "      <th>93</th>\n",
              "      <td>10</td>\n",
              "      <td>61006a693705637714e8415470b42e30</td>\n",
              "      <td>[[False, False, False, False, False, False, Fa...</td>\n",
              "    </tr>\n",
              "    <tr>\n",
              "      <th>94</th>\n",
              "      <td>10</td>\n",
              "      <td>c1b20bca2b8480af13ff8917b01d7edd</td>\n",
              "      <td>[[False, False, False, False, False, False, Fa...</td>\n",
              "    </tr>\n",
              "  </tbody>\n",
              "</table>\n",
              "</div>\n",
              "      <button class=\"colab-df-convert\" onclick=\"convertToInteractive('df-3a95d611-767c-4ed9-9239-eac7ca0db2d6')\"\n",
              "              title=\"Convert this dataframe to an interactive table.\"\n",
              "              style=\"display:none;\">\n",
              "        \n",
              "  <svg xmlns=\"http://www.w3.org/2000/svg\" height=\"24px\"viewBox=\"0 0 24 24\"\n",
              "       width=\"24px\">\n",
              "    <path d=\"M0 0h24v24H0V0z\" fill=\"none\"/>\n",
              "    <path d=\"M18.56 5.44l.94 2.06.94-2.06 2.06-.94-2.06-.94-.94-2.06-.94 2.06-2.06.94zm-11 1L8.5 8.5l.94-2.06 2.06-.94-2.06-.94L8.5 2.5l-.94 2.06-2.06.94zm10 10l.94 2.06.94-2.06 2.06-.94-2.06-.94-.94-2.06-.94 2.06-2.06.94z\"/><path d=\"M17.41 7.96l-1.37-1.37c-.4-.4-.92-.59-1.43-.59-.52 0-1.04.2-1.43.59L10.3 9.45l-7.72 7.72c-.78.78-.78 2.05 0 2.83L4 21.41c.39.39.9.59 1.41.59.51 0 1.02-.2 1.41-.59l7.78-7.78 2.81-2.81c.8-.78.8-2.07 0-2.86zM5.41 20L4 18.59l7.72-7.72 1.47 1.35L5.41 20z\"/>\n",
              "  </svg>\n",
              "      </button>\n",
              "      \n",
              "  <style>\n",
              "    .colab-df-container {\n",
              "      display:flex;\n",
              "      flex-wrap:wrap;\n",
              "      gap: 12px;\n",
              "    }\n",
              "\n",
              "    .colab-df-convert {\n",
              "      background-color: #E8F0FE;\n",
              "      border: none;\n",
              "      border-radius: 50%;\n",
              "      cursor: pointer;\n",
              "      display: none;\n",
              "      fill: #1967D2;\n",
              "      height: 32px;\n",
              "      padding: 0 0 0 0;\n",
              "      width: 32px;\n",
              "    }\n",
              "\n",
              "    .colab-df-convert:hover {\n",
              "      background-color: #E2EBFA;\n",
              "      box-shadow: 0px 1px 2px rgba(60, 64, 67, 0.3), 0px 1px 3px 1px rgba(60, 64, 67, 0.15);\n",
              "      fill: #174EA6;\n",
              "    }\n",
              "\n",
              "    [theme=dark] .colab-df-convert {\n",
              "      background-color: #3B4455;\n",
              "      fill: #D2E3FC;\n",
              "    }\n",
              "\n",
              "    [theme=dark] .colab-df-convert:hover {\n",
              "      background-color: #434B5C;\n",
              "      box-shadow: 0px 1px 3px 1px rgba(0, 0, 0, 0.15);\n",
              "      filter: drop-shadow(0px 1px 2px rgba(0, 0, 0, 0.3));\n",
              "      fill: #FFFFFF;\n",
              "    }\n",
              "  </style>\n",
              "\n",
              "      <script>\n",
              "        const buttonEl =\n",
              "          document.querySelector('#df-3a95d611-767c-4ed9-9239-eac7ca0db2d6 button.colab-df-convert');\n",
              "        buttonEl.style.display =\n",
              "          google.colab.kernel.accessAllowed ? 'block' : 'none';\n",
              "\n",
              "        async function convertToInteractive(key) {\n",
              "          const element = document.querySelector('#df-3a95d611-767c-4ed9-9239-eac7ca0db2d6');\n",
              "          const dataTable =\n",
              "            await google.colab.kernel.invokeFunction('convertToInteractive',\n",
              "                                                     [key], {});\n",
              "          if (!dataTable) return;\n",
              "\n",
              "          const docLinkHtml = 'Like what you see? Visit the ' +\n",
              "            '<a target=\"_blank\" href=https://colab.research.google.com/notebooks/data_table.ipynb>data table notebook</a>'\n",
              "            + ' to learn more about interactive tables.';\n",
              "          element.innerHTML = '';\n",
              "          dataTable['output_type'] = 'display_data';\n",
              "          await google.colab.output.renderOutput(dataTable, element);\n",
              "          const docLink = document.createElement('div');\n",
              "          docLink.innerHTML = docLinkHtml;\n",
              "          element.appendChild(docLink);\n",
              "        }\n",
              "      </script>\n",
              "    </div>\n",
              "  </div>\n",
              "  "
            ]
          },
          "metadata": {},
          "execution_count": 4
        }
      ]
    },
    {
      "cell_type": "markdown",
      "source": [
        "## Aggreagtion methods"
      ],
      "metadata": {
        "id": "ggssm3X7HG8e"
      }
    },
    {
      "cell_type": "markdown",
      "source": [
        "Now let's see how we can solve the aggregation problem with image segmentation. We will use three methods - *SegmentationEM*, *SegmentationMajorityVote*, and *SegmentationRASA*. All these methods solve the same problem - image segmentation aggregation - but in different ways."
      ],
      "metadata": {
        "id": "UfgS_lc1oxQ8"
      }
    },
    {
      "cell_type": "markdown",
      "source": [
        "## SegmentationEM"
      ],
      "metadata": {
        "id": "5TjushQfLpIq"
      }
    },
    {
      "cell_type": "markdown",
      "source": [
        "Let's use the EM algorithm for the image segmentation task.\n",
        "\n",
        "This method performs a categorical aggregation task for each pixel: should it be included to the resulting aggregate or no. This task is solved by the single coin Dawid-Skene algorithm. Each worker has a latent parameter \"skill\" that shows the probability of this worker to answer correctly. Skills and true pixels' labels are optimized by the Expectation-Maximization algorithm."
      ],
      "metadata": {
        "id": "ZEWzrvXRpQoo"
      }
    },
    {
      "cell_type": "code",
      "source": [
        "result_em = SegmentationEM().fit_predict(df)"
      ],
      "metadata": {
        "id": "eOXMU9pz_nDK"
      },
      "execution_count": null,
      "outputs": []
    },
    {
      "cell_type": "markdown",
      "source": [
        "Now, we need to convert our results to numpy array for convenience"
      ],
      "metadata": {
        "id": "wDxOWCBoplBu"
      }
    },
    {
      "cell_type": "code",
      "source": [
        "result_em = result_em.to_numpy()\n",
        "gt = gt.to_numpy()"
      ],
      "metadata": {
        "id": "PYHFk7i-B3W3"
      },
      "execution_count": null,
      "outputs": []
    },
    {
      "cell_type": "markdown",
      "source": [
        "We will use the *IOU* metric to calculate the efficiency of the methods"
      ],
      "metadata": {
        "id": "QCbjdkbfp49P"
      }
    },
    {
      "cell_type": "code",
      "source": [
        "def calculate_iou(target, result):\n",
        "    iou = np.array([])\n",
        "    for i in range(0, len(result) - 1):\n",
        "        overlap = result[i] * target[i] \n",
        "        union = result[i] + target[i] \n",
        "    iou = np.append(iou, overlap.sum() / float(union.sum()))\n",
        "    return iou.mean()"
      ],
      "metadata": {
        "id": "jNqXqR-pfE38"
      },
      "execution_count": null,
      "outputs": []
    },
    {
      "cell_type": "code",
      "source": [
        "print(calculate_iou(gt, result_em))"
      ],
      "metadata": {
        "colab": {
          "base_uri": "https://localhost:8080/"
        },
        "id": "p78HMoYxfqW8",
        "outputId": "2e98b865-3c37-4eec-d1ab-288ec6946b9c"
      },
      "execution_count": null,
      "outputs": [
        {
          "output_type": "stream",
          "name": "stdout",
          "text": [
            "0.8551840979658429\n"
          ]
        }
      ]
    },
    {
      "cell_type": "markdown",
      "source": [
        "## Segmentation Majority Vote"
      ],
      "metadata": {
        "id": "irhdL3VuL5lv"
      }
    },
    {
      "cell_type": "markdown",
      "source": [
        "The next method - Segmentation Majority Vote - chooses a pixel if more than half of workers voted.\n",
        "\n",
        "This method implements a straightforward approach to the image segmentations aggregation: it assumes that if pixel is not inside in the worker's segmentation, this vote counts as 0, otherwise, as 1. Next, the SegmentationEM aggregates these categorical values for each pixel by the Majority Vote."
      ],
      "metadata": {
        "id": "7M7wLzb9qifS"
      }
    },
    {
      "cell_type": "code",
      "source": [
        "result_majorityvote = SegmentationMajorityVote().fit_predict(df)\n",
        "result_majorityvote = result_majorityvote.to_numpy()"
      ],
      "metadata": {
        "id": "cznr36vlHYR4"
      },
      "execution_count": null,
      "outputs": []
    },
    {
      "cell_type": "code",
      "source": [
        "print(calculate_iou(gt, result_majorityvote))"
      ],
      "metadata": {
        "colab": {
          "base_uri": "https://localhost:8080/"
        },
        "id": "MekbNZN_N7nC",
        "outputId": "12f84faf-176b-4655-d483-bec26b5c1ea0"
      },
      "execution_count": null,
      "outputs": [
        {
          "output_type": "stream",
          "name": "stdout",
          "text": [
            "0.8352633625644315\n"
          ]
        }
      ]
    },
    {
      "cell_type": "markdown",
      "source": [
        "## Segmentation RASA"
      ],
      "metadata": {
        "id": "fpKem1upMBjS"
      }
    },
    {
      "cell_type": "markdown",
      "source": [
        "The last method - Segmentation RASA - chooses a pixel if sum of weighted votes of each workers' more than 0.5.\n",
        "\n",
        "Algorithm works iteratively, at each step, the workers are reweighted in proportion to their distances to the current answer estimation. The distance is considered as 1−IOU. Modification of the RASA method for texts."
      ],
      "metadata": {
        "id": "VShKdS1Aq7D_"
      }
    },
    {
      "cell_type": "code",
      "source": [
        "result_rasa = SegmentationRASA().fit_predict(df)\n",
        "result_rasa = result_rasa.to_numpy()"
      ],
      "metadata": {
        "id": "merwDHwgN7pm"
      },
      "execution_count": null,
      "outputs": []
    },
    {
      "cell_type": "code",
      "source": [
        "print(calculate_iou(gt, result_rasa))"
      ],
      "metadata": {
        "colab": {
          "base_uri": "https://localhost:8080/"
        },
        "id": "ef71TMTATAlB",
        "outputId": "8796c258-7bbe-4342-f204-5a4ab5fb0516"
      },
      "execution_count": null,
      "outputs": [
        {
          "output_type": "stream",
          "name": "stdout",
          "text": [
            "0.8395562415748342\n"
          ]
        }
      ]
    },
    {
      "cell_type": "markdown",
      "source": [
        "## Summary"
      ],
      "metadata": {
        "id": "KCgyARgtMJu7"
      }
    },
    {
      "cell_type": "markdown",
      "source": [
        "All the results are quite good but the SegmentationEM shows slightly better result.\n",
        "In this tutorial, we looked at how to deal with the image segmentation aggregation task by using Crowd-Kit library."
      ],
      "metadata": {
        "id": "iXNkuJ2YrPbb"
      }
    }
  ]
}
